{
 "cells": [
  {
   "cell_type": "code",
   "execution_count": null,
   "metadata": {},
   "outputs": [],
   "source": [
    "import os, sys, time, re, json, math\n",
    "import numpy as np\n",
    "# from scipy import misc # for imread\n",
    "# imread = misc.imread # use this instead of the imread in matplotlib\n",
    "import cv2\n",
    "imread = lambda x: cv2.imread(x)[:,:,(2,1,0)]\n",
    "\n",
    "# Load matplotlib for plotting\n",
    "import matplotlib.pyplot as plt\n",
    "%matplotlib inline\n",
    "\n",
    "import unrealcv as ucv\n",
    "from unrealcv.util import read_png\n",
    "from unrealcv import client\n",
    "from time import sleep"
   ]
  },
  {
   "cell_type": "code",
   "execution_count": null,
   "metadata": {},
   "outputs": [],
   "source": [
    "\n",
    "client.connect()"
   ]
  },
  {
   "cell_type": "code",
   "execution_count": null,
   "metadata": {},
   "outputs": [],
   "source": [
    "plt.figure(figsize=(20,20))\n",
    "plt.subplot(221)\n",
    "plt.title('lit', fontsize=24)\n",
    "img = read_png(client.request('vget /camera/0/lit png'))\n",
    "plt.imshow(img)\n",
    "plt.subplot(222)\n",
    "plt.title('depth', fontsize=24)\n",
    "img = read_png(client.request('vget /camera/0/depth png'))\n",
    "plt.imshow(img)\n",
    "plt.subplot(223)\n",
    "plt.title('normal', fontsize=24)\n",
    "img = read_png(client.request('vget /camera/0/normal png'))\n",
    "plt.imshow(img)\n",
    "plt.subplot(224)\n",
    "plt.title('object_mask', fontsize=24)\n",
    "img = read_png(client.request('vget /camera/0/object_mask png'))\n",
    "plt.imshow(img)"
   ]
  },
  {
   "cell_type": "code",
   "execution_count": null,
   "metadata": {},
   "outputs": [],
   "source": []
  }
 ],
 "metadata": {
  "kernelspec": {
   "display_name": "Python 3",
   "language": "python",
   "name": "python3"
  },
  "language_info": {
   "codemirror_mode": {
    "name": "ipython",
    "version": 3
   },
   "file_extension": ".py",
   "mimetype": "text/x-python",
   "name": "python",
   "nbconvert_exporter": "python",
   "pygments_lexer": "ipython3",
   "version": "3.5.4"
  }
 },
 "nbformat": 4,
 "nbformat_minor": 2
}
